{
 "cells": [
  {
   "cell_type": "markdown",
   "id": "369d636a",
   "metadata": {},
   "source": [
    "# Leap of Faith in PyTorch [L1] - Introduction to PyTorch and Tensors - Demo\n",
    "\n",
    "## 👉 [check it on Medium - Leap of Faith in PyTorch: Introduction (Day 1)](https://medium.com/@geeks.sw.gig/https://medium.com/practical-coders-chronicles/leap-of-faith-in-pytorch-introduction-day-1-ce9047352cf1)"
   ]
  },
  {
   "cell_type": "markdown",
   "id": "e53e33ba",
   "metadata": {},
   "source": [
    "### Import PyTorch and Create Tensors"
   ]
  },
  {
   "cell_type": "code",
   "execution_count": 1,
   "id": "f236742b",
   "metadata": {},
   "outputs": [
    {
     "name": "stdout",
     "output_type": "stream",
     "text": [
      "tensor([[1, 2, 3],\n",
      "        [4, 5, 6],\n",
      "        [7, 8, 9]])\n"
     ]
    }
   ],
   "source": [
    "import torch\n",
    "\n",
    "tensor_example = torch.tensor([\n",
    "                       [1, 2, 3],\n",
    "                       [4, 5, 6],\n",
    "                       [7, 8, 9]\n",
    "                 ])\n",
    "print(tensor_example)"
   ]
  },
  {
   "cell_type": "markdown",
   "id": "0279c6d0",
   "metadata": {},
   "source": [
    "### Tensor Addition"
   ]
  },
  {
   "cell_type": "code",
   "execution_count": 2,
   "id": "31869e93",
   "metadata": {},
   "outputs": [
    {
     "name": "stdout",
     "output_type": "stream",
     "text": [
      "Tensor Addition:\n",
      " tensor([[ 6,  8],\n",
      "        [10, 12]])\n"
     ]
    }
   ],
   "source": [
    "# Creating two tensors\n",
    "tensor_a = torch.tensor([[1, 2], [3, 4]])\n",
    "tensor_b = torch.tensor([[5, 6], [7, 8]])\n",
    "\n",
    "# Adding the tensors\n",
    "tensor_sum = tensor_a + tensor_b\n",
    "print(\"Tensor Addition:\\n\", tensor_sum)"
   ]
  },
  {
   "cell_type": "markdown",
   "id": "d26763bc",
   "metadata": {},
   "source": [
    "### Tensor Multiplication"
   ]
  },
  {
   "cell_type": "code",
   "execution_count": 3,
   "id": "26bc56e0",
   "metadata": {},
   "outputs": [
    {
     "name": "stdout",
     "output_type": "stream",
     "text": [
      "Tensor Multiplication:\n",
      " tensor([[ 5, 12],\n",
      "        [21, 32]])\n"
     ]
    }
   ],
   "source": [
    "# Multiplying the tensors element-wise\n",
    "tensor_product = tensor_a * tensor_b\n",
    "print(\"Tensor Multiplication:\\n\", tensor_product)"
   ]
  },
  {
   "cell_type": "markdown",
   "id": "af7fe737",
   "metadata": {},
   "source": [
    "### Example using Financial, Social, and Political Topics"
   ]
  },
  {
   "cell_type": "code",
   "execution_count": 12,
   "id": "bcb2fbbd",
   "metadata": {},
   "outputs": [
    {
     "name": "stdout",
     "output_type": "stream",
     "text": [
      "tensor([21.4300, 14.3400,  5.0800,  1.6400,  1.4800])\n",
      "tensor([ 330, 1400, 1380,   38,  144])\n",
      "tensor([65, 70, 60, 60, 65])\n"
     ]
    }
   ],
   "source": [
    "# Financial data: GDP in trillion dollars (year 2023)\n",
    "# USA, China, India, Canada, Russia\n",
    "gdp = torch.tensor([21.43, 14.34, 5.08, 1.64, 1.48]) \n",
    "print(gdp)\n",
    "\n",
    "# Social data: Population in millions\n",
    "# USA, China, India, Canada, Russia\n",
    "population = torch.tensor([330, 1400, 1380, 38, 144])\n",
    "print(population)\n",
    "\n",
    "# Political data: Governance score (hypothetical, adjust it to your own convenience)\n",
    "# USA, China, India, Canada, Russia\n",
    "governance_score = torch.tensor([65, 70, 60, 60, 65])\n",
    "print(governance_score)"
   ]
  },
  {
   "cell_type": "markdown",
   "id": "2eab1ee8",
   "metadata": {},
   "source": [
    "### Calculating GDP Per Capita"
   ]
  },
  {
   "cell_type": "code",
   "execution_count": 11,
   "id": "f3aaa76e",
   "metadata": {},
   "outputs": [
    {
     "name": "stdout",
     "output_type": "stream",
     "text": [
      "GDP Per Capita (in thousands of dollars):\n",
      " tensor([64.9394, 10.2429,  3.6812, 43.1579, 10.2778])\n"
     ]
    }
   ],
   "source": [
    "# Adjust the GDP to billions to match the population in millions for easier interpretation\n",
    "gdp_in_billions = gdp * 1000  # Convert GDP from trillions to billions\n",
    "\n",
    "# Calculating GDP per capita\n",
    "gdp_per_capita = gdp_in_billions / population\n",
    "print(\"GDP Per Capita (in thousands of dollars):\\n\", gdp_per_capita)"
   ]
  },
  {
   "cell_type": "markdown",
   "id": "53c1b83b",
   "metadata": {},
   "source": [
    "### Adjusted Governance Score (GS)"
   ]
  },
  {
   "cell_type": "code",
   "execution_count": 13,
   "id": "ee98e1dd",
   "metadata": {},
   "outputs": [
    {
     "name": "stdout",
     "output_type": "stream",
     "text": [
      "Adjusted Governance Score:\n",
      " tensor([4221.0605,  717.0000,  220.8696, 2589.4736,  668.0555])\n"
     ]
    }
   ],
   "source": [
    "# Adjusted governance score\n",
    "adjusted_governance_score = governance_score * gdp_per_capita\n",
    "print(\"Adjusted Governance Score:\\n\", adjusted_governance_score)"
   ]
  }
 ],
 "metadata": {
  "kernelspec": {
   "display_name": "Python 3 (ipykernel)",
   "language": "python",
   "name": "python3"
  },
  "language_info": {
   "codemirror_mode": {
    "name": "ipython",
    "version": 3
   },
   "file_extension": ".py",
   "mimetype": "text/x-python",
   "name": "python",
   "nbconvert_exporter": "python",
   "pygments_lexer": "ipython3",
   "version": "3.9.19"
  }
 },
 "nbformat": 4,
 "nbformat_minor": 5
}
