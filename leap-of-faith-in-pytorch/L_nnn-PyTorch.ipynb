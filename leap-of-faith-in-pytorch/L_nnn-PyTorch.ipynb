{
 "cells": [
  {
   "cell_type": "code",
   "execution_count": 31,
   "id": "bc62482a-9cbf-4f44-8daa-ad6bcb282093",
   "metadata": {},
   "outputs": [],
   "source": [
    "import numpy as np\n",
    "import matplotlib.pyplot as plt\n",
    "import torch\n",
    "import torch.nn as nn\n",
    "\n",
    "\n",
    "class ChristmasModel(nn.Module):\n",
    "    def __init__(self):\n",
    "        super(ChristmasModel, self).__init__()\n",
    "        self.fc = nn.Linear(1, 1)  # Placeholder linear layer\n",
    "    \n",
    "    def forward(self, x):\n",
    "        return self.fc(x)  # No real transformation, just placeholder\n",
    "\n",
    "def plot_christmas():\n",
    "    # Define the tree (triangle)\n",
    "    tree_x = [0, -1, 1, 0]  # Coordinates for the triangle\n",
    "    tree_y = [0, -3, -3, 0]  # Coordinates to point the triangle downward\n",
    "    \n",
    "    # Define the trunk (adjusted to align with the base of the tree)\n",
    "    trunk_x = [-0.2, -0.2, 0.2, 0.2, -0.2]\n",
    "    trunk_y = [-3, -3.5, -3.5, -3, -3]\n",
    "    \n",
    "    # Ornaments (circles)\n",
    "    ornaments = [\n",
    "        (-0.6, -1.8, 0.05),  # (x, y, radius)\n",
    "        (0.5, -2.5, 0.07),\n",
    "        (-0.2, -1.2, 0.06)\n",
    "    ]\n",
    "    \n",
    "    # Create plot\n",
    "    plt.figure(figsize=(6, 8))\n",
    "    \n",
    "    # Plot tree\n",
    "    plt.fill(tree_x, tree_y, color=\"green\", label=\"Christmas Tree\")\n",
    "    \n",
    "    # Plot trunk\n",
    "    plt.fill(trunk_x, trunk_y, color=\"brown\", label=\"Trunk\")\n",
    "    \n",
    "    # Plot ornaments\n",
    "    for x, y, r in ornaments:\n",
    "        circle = plt.Circle((x, y), r, color=\"red\")\n",
    "        plt.gca().add_artist(circle)\n",
    "    \n",
    "    # Add Merry Christmas text\n",
    "    plt.text(0, -4, \"Merry Christmas!\", fontsize=16, color=\"red\", ha=\"center\")\n",
    "    \n",
    "    # Remove axes for a clean look\n",
    "    plt.axis(\"off\")\n",
    "    plt.title(\"A Festive Neural Network Output\")\n",
    "    plt.legend(loc=\"upper right\")\n",
    "    plt.show()\n",
    "\n"
   ]
  },
  {
   "cell_type": "code",
   "execution_count": 32,
   "id": "14b163dc-818a-4d81-8bea-adfa2934cf67",
   "metadata": {},
   "outputs": [
    {
     "data": {
      "image/png": "[encoded data removed]",
      "text/plain": [
       "<Figure size 432x576 with 1 Axes>"
      ]
     },
     "metadata": {
      "needs_background": "light"
     },
     "output_type": "display_data"
    }
   ],
   "source": [
    "# Instantiate and \"run\" the model\n",
    "model = ChristmasModel()\n",
    "dummy_input = torch.tensor([[0.0]])  # Placeholder input\n",
    "model(dummy_input)  # Doesn't actually transform the input\n",
    "\n",
    "# Plot Merry Christmas\n",
    "plot_christmas()\n"
   ]
  },
  {
   "cell_type": "code",
   "execution_count": null,
   "id": "28121a07-07dc-4547-984a-d51cc290fc70",
   "metadata": {},
   "outputs": [],
   "source": []
  }
 ],
 "metadata": {
  "kernelspec": {
   "display_name": "Python 3 (ipykernel)",
   "language": "python",
   "name": "python3"
  },
  "language_info": {
   "codemirror_mode": {
    "name": "ipython",
    "version": 3
   },
   "file_extension": ".py",
   "mimetype": "text/x-python",
   "name": "python",
   "nbconvert_exporter": "python",
   "pygments_lexer": "ipython3",
   "version": "3.9.20"
  }
 },
 "nbformat": 4,
 "nbformat_minor": 5
}
