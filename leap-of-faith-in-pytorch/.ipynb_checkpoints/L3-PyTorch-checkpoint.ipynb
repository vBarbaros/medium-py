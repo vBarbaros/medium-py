{
 "cells": [
  {
   "cell_type": "markdown",
   "id": "369d636a",
   "metadata": {},
   "source": [
    "# Leap of Faith in PyTorch [L2] -Tensor Operations (Day 2) - Demo"
   ]
  },
  {
   "cell_type": "markdown",
   "id": "e53e33ba",
   "metadata": {},
   "source": [
    "### Basic Tensor Operations (recap from L1)"
   ]
  },
  {
   "cell_type": "code",
   "execution_count": 1,
   "id": "f236742b",
   "metadata": {},
   "outputs": [
    {
     "name": "stdout",
     "output_type": "stream",
     "text": [
      "Increased GDP:\n",
      " tensor([23.5730, 15.7740,  5.5880,  1.8040,  1.6280])\n",
      "Reduced Population:\n",
      " tensor([ 313.5000, 1330.0000, 1311.0000,   36.1000,  136.8000])\n",
      "GDP multiplied by Governance Score:\n",
      " tensor([1821.5500, 1003.8000,  304.8000,  131.2000,   96.2000])\n",
      "GDP Per Capita (in thousands of dollars):\n",
      " tensor([64.9394, 10.2429,  3.6812, 43.1579, 10.2778])\n"
     ]
    }
   ],
   "source": [
    "import torch\n",
    "\n",
    "# Financial data: GDP in trillion dollars (year 2023)\n",
    "gdp = torch.tensor([21.43, 14.34, 5.08, 1.64, 1.48])  # USA, China, India, Canada, Russia\n",
    "\n",
    "# Social data: Population in millions\n",
    "population = torch.tensor([330, 1400, 1380, 38, 144])  # USA, China, India, Canada, Russia\n",
    "\n",
    "# Political data: Governance score (hypothetical)\n",
    "governance_score = torch.tensor([85, 70, 60, 80, 65])  # USA, China, India, Canada, Russia\n",
    "\n",
    "# Increase GDP by 10%\n",
    "gdp_increased = gdp + gdp * 0.1\n",
    "print(\"Increased GDP:\\n\", gdp_increased)\n",
    "\n",
    "# Reduce population by 5%\n",
    "population_reduced = population - population * 0.05\n",
    "print(\"Reduced Population:\\n\", population_reduced)\n",
    "\n",
    "# Multiply GDP by governance score\n",
    "gdp_governance = gdp * governance_score\n",
    "print(\"GDP multiplied by Governance Score:\\n\", gdp_governance)\n",
    "\n",
    "# Divide GDP by population to get GDP per capita in thousands of dollars\n",
    "gdp_per_capita = (gdp * 1000) / population\n",
    "print(\"GDP Per Capita (in thousands of dollars):\\n\", gdp_per_capita)"
   ]
  },
  {
   "cell_type": "markdown",
   "id": "0279c6d0",
   "metadata": {},
   "source": [
    "### Advanced Operations\n",
    "#### Reshaping Tensors"
   ]
  },
  {
   "cell_type": "code",
   "execution_count": 18,
   "id": "31869e93",
   "metadata": {},
   "outputs": [
    {
     "name": "stdout",
     "output_type": "stream",
     "text": [
      "GDP Tensor before reshape:\n",
      " tensor([21.4300, 14.3400,  5.0800,  1.6400,  1.4800])\n",
      "\n",
      "Reshaped GDP to 2D tensor:\n",
      " tensor([[21.4300, 14.3400,  5.0800,  1.6400,  1.4800]])\n",
      "\n",
      "Reshaped GDP to 3D tensor:\n",
      " tensor([[[21.4300, 14.3400,  5.0800,  1.6400,  1.4800]]])\n"
     ]
    }
   ],
   "source": [
    "print(\"GDP Tensor before reshape:\\n\", gdp)\n",
    "\n",
    "# Reshaping a 1D tensor into a 2D tensor\n",
    "print(\"\\nReshaped GDP to 2D tensor:\\n\", gdp.view(1, 5))\n",
    "\n",
    "# Reshaping a 1D tensor into a 3D tensor\n",
    "print(\"\\nReshaped GDP to 3D tensor:\\n\", gdp.view(1, 1, 5))"
   ]
  },
  {
   "cell_type": "markdown",
   "id": "d26763bc",
   "metadata": {},
   "source": [
    "### Indexing and Slicing"
   ]
  },
  {
   "cell_type": "code",
   "execution_count": 19,
   "id": "26bc56e0",
   "metadata": {},
   "outputs": [
    {
     "name": "stdout",
     "output_type": "stream",
     "text": [
      "USA GDP:\n",
      " tensor(21.4300)\n",
      "GDP of first three countries:\n",
      " tensor([21.4300, 14.3400,  5.0800])\n"
     ]
    }
   ],
   "source": [
    "# Accessing GDP of the first country (USA)\n",
    "usa_gdp = gdp[0]\n",
    "print(\"USA GDP:\\n\", usa_gdp)\n",
    "\n",
    "# Slicing to get GDP of the first three countries\n",
    "gdp_first_three = gdp[:3]\n",
    "print(\"GDP of first three countries:\\n\", gdp_first_three)"
   ]
  },
  {
   "cell_type": "markdown",
   "id": "af7fe737",
   "metadata": {},
   "source": [
    "### Example using Financial, Social, and Political Topics"
   ]
  },
  {
   "cell_type": "code",
   "execution_count": 25,
   "id": "bcb2fbbd",
   "metadata": {},
   "outputs": [
    {
     "name": "stdout",
     "output_type": "stream",
     "text": [
      "Population Tensor before reshape:\n",
      " tensor([ 330, 1400, 1380,   38,  144])\n",
      "\n",
      "Reshaped Population to 2D tensor:\n",
      " tensor([[ 330, 1400, 1380,   38,  144]])\n",
      "\n",
      "Reshaped Population to 3D tensor:\n",
      " tensor([[[ 330, 1400, 1380,   38,  144]]])\n",
      "\n",
      "Reshaped Governance Score to 2D tensor:\n",
      " tensor([[85],\n",
      "        [70],\n",
      "        [60],\n",
      "        [80],\n",
      "        [65]])\n",
      "\n",
      "GDP Tensor with data converted to Float datatype:\n",
      " tensor([21.4300, 14.3400,  5.0800,  1.6400,  1.4800])\n"
     ]
    }
   ],
   "source": [
    "# Financial data: GDP in trillion dollars (year 2023)\n",
    "gdp = torch.tensor([21.43, 14.34, 5.08, 1.64, 1.48])  # USA, China, India, Canada, Russia\n",
    "\n",
    "# Social data: Population in millions\n",
    "population = torch.tensor([330, 1400, 1380, 38, 144])  # USA, China, India, Canada, Russia\n",
    "\n",
    "# Political data: Governance score (hypothetical)\n",
    "governance_score = torch.tensor([85, 70, 60, 80, 65])  # USA, China, India, Canada, Russia\n",
    "\n",
    "print(\"Population Tensor before reshape:\\n\", population)\n",
    "\n",
    "# Reshaping a 1D tensor into a 2D tensor\n",
    "population_2d = population.view(1, 5)\n",
    "print(\"\\nReshaped Population to 2D tensor:\\n\", population_2d)\n",
    "\n",
    "# Reshaping a 1D tensor into a 3D tensor\n",
    "population_3d = population.view(1, 1, 5)\n",
    "print(\"\\nReshaped Population to 3D tensor:\\n\", population_3d)\n",
    "\n",
    "# Reshaping population data to 2D tensor\n",
    "governance_score_2d = governance_score.view(5, 1)\n",
    "print(\"\\nReshaped Governance Score to 2D tensor:\\n\", governance_score_2d)\n",
    "\n",
    "gdp_float = gdp.view(torch.float32)\n",
    "print(\"\\nGDP Tensor with data converted to Float datatype:\\n\", gdp_float)"
   ]
  },
  {
   "cell_type": "markdown",
   "id": "2eab1ee8",
   "metadata": {},
   "source": [
    "### Indexing and Slicing"
   ]
  },
  {
   "cell_type": "code",
   "execution_count": 29,
   "id": "f3aaa76e",
   "metadata": {},
   "outputs": [
    {
     "name": "stdout",
     "output_type": "stream",
     "text": [
      "USA GDP:\n",
      " tensor(21.4300)\n",
      "\n",
      "India Governance Score:\n",
      " tensor(60)\n",
      "\n",
      "GDP of first three countries:\n",
      " tensor([21.4300, 14.3400,  5.0800])\n",
      "\n",
      "Population of the last two countries:\n",
      " tensor([ 38, 144])\n",
      "\n",
      "GDP and Population of China and India:\n",
      " tensor([[  14.3400,    5.0800],\n",
      "        [1400.0000, 1380.0000]])\n"
     ]
    }
   ],
   "source": [
    "# Accessing GDP of the first country (USA)\n",
    "usa_gdp = gdp[0]\n",
    "print(\"USA GDP:\\n\", usa_gdp)\n",
    "\n",
    "# Accessing the governance score of the third country (India)\n",
    "india_governance = governance_score[2]\n",
    "print(\"\\nIndia Governance Score:\\n\", india_governance)\n",
    "\n",
    "# Slicing to get GDP of the first three countries\n",
    "gdp_first_three = gdp[:3]\n",
    "print(\"\\nGDP of first three countries:\\n\", gdp_first_three)\n",
    "\n",
    "# Slicing to get population of the last two countries\n",
    "population_last_two = population[-2:]\n",
    "print(\"\\nPopulation of the last two countries:\\n\", population_last_two)\n",
    "\n",
    "# Advanced slicing: Selecting GDP and population of China and India\n",
    "china_india_gdp_population = torch.stack((gdp[1:3], population[1:3]))\n",
    "print(\"\\nGDP and Population of China and India:\\n\", china_india_gdp_population)"
   ]
  }
 ],
 "metadata": {
  "kernelspec": {
   "display_name": "Python 3 (ipykernel)",
   "language": "python",
   "name": "python3"
  },
  "language_info": {
   "codemirror_mode": {
    "name": "ipython",
    "version": 3
   },
   "file_extension": ".py",
   "mimetype": "text/x-python",
   "name": "python",
   "nbconvert_exporter": "python",
   "pygments_lexer": "ipython3",
   "version": "3.9.19"
  }
 },
 "nbformat": 4,
 "nbformat_minor": 5
}
