{
 "cells": [
  {
   "cell_type": "markdown",
   "id": "369d636a",
   "metadata": {},
   "source": [
    "# Leap of Faith in PyTorch [L2] -Tensor Operations (Day 2) - Demo"
   ]
  },
  {
   "cell_type": "markdown",
   "id": "e53e33ba",
   "metadata": {},
   "source": [
    "### Basic Tensor Operations (recap from L1)"
   ]
  },
  {
   "cell_type": "code",
   "execution_count": 2,
   "id": "f236742b",
   "metadata": {},
   "outputs": [
    {
     "name": "stdout",
     "output_type": "stream",
     "text": [
      "Increased GDP:\n",
      " tensor([23.5730, 15.7740,  5.5880,  1.8040,  1.6280])\n",
      "Reduced Population:\n",
      " tensor([ 313.5000, 1330.0000, 1311.0000,   36.1000,  136.8000])\n",
      "GDP multiplied by Governance Score:\n",
      " tensor([1821.5500, 1003.8000,  304.8000,  131.2000,   96.2000])\n",
      "GDP Per Capita (in thousands of dollars):\n",
      " tensor([64.9394, 10.2429,  3.6812, 43.1579, 10.2778])\n"
     ]
    }
   ],
   "source": [
    "import torch\n",
    "\n",
    "# Financial data: GDP in trillion dollars (year 2023)\n",
    "gdp = torch.tensor([21.43, 14.34, 5.08, 1.64, 1.48])  # USA, China, India, Canada, Russia\n",
    "\n",
    "# Social data: Population in millions\n",
    "population = torch.tensor([330, 1400, 1380, 38, 144])  # USA, China, India, Canada, Russia\n",
    "\n",
    "# Political data: Governance score (hypothetical)\n",
    "governance_score = torch.tensor([85, 70, 60, 80, 65])  # USA, China, India, Canada, Russia\n",
    "\n",
    "# Increase GDP by 10%\n",
    "gdp_increased = gdp + gdp * 0.1\n",
    "print(\"Increased GDP:\\n\", gdp_increased)\n",
    "\n",
    "# Reduce population by 5%\n",
    "population_reduced = population - population * 0.05\n",
    "print(\"Reduced Population:\\n\", population_reduced)\n",
    "\n",
    "# Multiply GDP by governance score\n",
    "gdp_governance = gdp * governance_score\n",
    "print(\"GDP multiplied by Governance Score:\\n\", gdp_governance)\n",
    "\n",
    "# Divide GDP by population to get GDP per capita in thousands of dollars\n",
    "gdp_per_capita = (gdp * 1000) / population\n",
    "print(\"GDP Per Capita (in thousands of dollars):\\n\", gdp_per_capita)"
   ]
  },
  {
   "cell_type": "markdown",
   "id": "0279c6d0",
   "metadata": {},
   "source": [
    "### Advanced Operations"
   ]
  },
  {
   "cell_type": "code",
   "execution_count": 2,
   "id": "31869e93",
   "metadata": {},
   "outputs": [
    {
     "name": "stdout",
     "output_type": "stream",
     "text": [
      "Tensor Addition:\n",
      " tensor([[ 6,  8],\n",
      "        [10, 12]])\n"
     ]
    }
   ],
   "source": [
    "# Creating two tensors\n",
    "tensor_a = torch.tensor([[1, 2], [3, 4]])\n",
    "tensor_b = torch.tensor([[5, 6], [7, 8]])\n",
    "\n",
    "# Adding the tensors\n",
    "tensor_sum = tensor_a + tensor_b\n",
    "print(\"Tensor Addition:\\n\", tensor_sum)"
   ]
  },
  {
   "cell_type": "markdown",
   "id": "d26763bc",
   "metadata": {},
   "source": [
    "### Tensor Multiplication"
   ]
  },
  {
   "cell_type": "code",
   "execution_count": 3,
   "id": "26bc56e0",
   "metadata": {},
   "outputs": [
    {
     "name": "stdout",
     "output_type": "stream",
     "text": [
      "Tensor Multiplication:\n",
      " tensor([[ 5, 12],\n",
      "        [21, 32]])\n"
     ]
    }
   ],
   "source": [
    "# Multiplying the tensors element-wise\n",
    "tensor_product = tensor_a * tensor_b\n",
    "print(\"Tensor Multiplication:\\n\", tensor_product)"
   ]
  },
  {
   "cell_type": "markdown",
   "id": "af7fe737",
   "metadata": {},
   "source": [
    "### Example using Financial, Social, and Political Topics"
   ]
  },
  {
   "cell_type": "code",
   "execution_count": 12,
   "id": "bcb2fbbd",
   "metadata": {},
   "outputs": [
    {
     "name": "stdout",
     "output_type": "stream",
     "text": [
      "tensor([21.4300, 14.3400,  5.0800,  1.6400,  1.4800])\n",
      "tensor([ 330, 1400, 1380,   38,  144])\n",
      "tensor([65, 70, 60, 60, 65])\n"
     ]
    }
   ],
   "source": [
    "# Financial data: GDP in trillion dollars (year 2023)\n",
    "# USA, China, India, Canada, Russia\n",
    "gdp = torch.tensor([21.43, 14.34, 5.08, 1.64, 1.48]) \n",
    "print(gdp)\n",
    "\n",
    "# Social data: Population in millions\n",
    "# USA, China, India, Canada, Russia\n",
    "population = torch.tensor([330, 1400, 1380, 38, 144])\n",
    "print(population)\n",
    "\n",
    "# Political data: Governance score (hypothetical, adjust it to your own convenience)\n",
    "# USA, China, India, Canada, Russia\n",
    "governance_score = torch.tensor([65, 70, 60, 60, 65])\n",
    "print(governance_score)"
   ]
  },
  {
   "cell_type": "markdown",
   "id": "2eab1ee8",
   "metadata": {},
   "source": [
    "### Calculating GDP Per Capita"
   ]
  },
  {
   "cell_type": "code",
   "execution_count": 11,
   "id": "f3aaa76e",
   "metadata": {},
   "outputs": [
    {
     "name": "stdout",
     "output_type": "stream",
     "text": [
      "GDP Per Capita (in thousands of dollars):\n",
      " tensor([64.9394, 10.2429,  3.6812, 43.1579, 10.2778])\n"
     ]
    }
   ],
   "source": [
    "# Adjust the GDP to billions to match the population in millions for easier interpretation\n",
    "gdp_in_billions = gdp * 1000  # Convert GDP from trillions to billions\n",
    "\n",
    "# Calculating GDP per capita\n",
    "gdp_per_capita = gdp_in_billions / population\n",
    "print(\"GDP Per Capita (in thousands of dollars):\\n\", gdp_per_capita)"
   ]
  },
  {
   "cell_type": "markdown",
   "id": "53c1b83b",
   "metadata": {},
   "source": [
    "### Adjusted Governance Score (GS)"
   ]
  },
  {
   "cell_type": "code",
   "execution_count": 13,
   "id": "ee98e1dd",
   "metadata": {},
   "outputs": [
    {
     "name": "stdout",
     "output_type": "stream",
     "text": [
      "Adjusted Governance Score:\n",
      " tensor([4221.0605,  717.0000,  220.8696, 2589.4736,  668.0555])\n"
     ]
    }
   ],
   "source": [
    "# Adjusted governance score\n",
    "adjusted_governance_score = governance_score * gdp_per_capita\n",
    "print(\"Adjusted Governance Score:\\n\", adjusted_governance_score)"
   ]
  }
 ],
 "metadata": {
  "kernelspec": {
   "display_name": "Python 3 (ipykernel)",
   "language": "python",
   "name": "python3"
  },
  "language_info": {
   "codemirror_mode": {
    "name": "ipython",
    "version": 3
   },
   "file_extension": ".py",
   "mimetype": "text/x-python",
   "name": "python",
   "nbconvert_exporter": "python",
   "pygments_lexer": "ipython3",
   "version": "3.9.19"
  }
 },
 "nbformat": 4,
 "nbformat_minor": 5
}
