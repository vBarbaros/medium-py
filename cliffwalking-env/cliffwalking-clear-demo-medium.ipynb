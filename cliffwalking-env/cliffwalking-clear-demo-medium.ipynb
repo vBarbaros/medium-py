{
 "cells": [
  {
   "cell_type": "markdown",
   "id": "89023e77",
   "metadata": {},
   "source": [
    "# Cliff Walking - Intro\n",
    "\n",
    "Cliff Walking environment consists of a rectangular area of 4 x 12 squares, in which an agent (the element that interacts with this environment) starts in the bottom left corner, and its goal is to reach the bottom right corner. Sounds pretty simple so far, right? Not so quick.\n",
    "\n",
    "Here is the catch. \n",
    "\n",
    "Bottom row, except for the starting position and terminal (final goal) position, is defined as a cliff. Every time the agent tries to move to one of this squares it gets a very negative reward (-100) and the environment puts the agent back in its starting corner. You die when going over the cliff and your life starts again, from the same position.\n",
    "\n",
    "#### Hey, that's a toy environment so it works there, but don't try this in real life!"
   ]
  },
  {
   "cell_type": "markdown",
   "id": "4ffc92f7",
   "metadata": {},
   "source": [
    "## Step 1 - Import all you need"
   ]
  },
  {
   "cell_type": "code",
   "execution_count": 19,
   "id": "96f73296",
   "metadata": {},
   "outputs": [],
   "source": [
    "import numpy as np\n",
    "import matplotlib.pyplot as plt\n",
    "import matplotlib\n",
    "\n",
    "import gym\n",
    "import random\n",
    "import itertools\n",
    "import sys\n",
    "from collections import defaultdict\n",
    "from gym.envs.toy_text.cliffwalking import CliffWalkingEnv\n",
    "\n",
    "matplotlib.style.use('ggplot')\n",
    "%matplotlib inline"
   ]
  },
  {
   "cell_type": "markdown",
   "id": "0dc58c4f",
   "metadata": {},
   "source": [
    "## Step 2 - Verify that you got the environment and can work with it"
   ]
  },
  {
   "cell_type": "code",
   "execution_count": 20,
   "id": "59eab276",
   "metadata": {},
   "outputs": [
    {
     "name": "stdout",
     "output_type": "stream",
     "text": [
      "o  o  o  o  o  o  o  o  o  o  o  o\n",
      "o  o  o  o  o  o  o  o  o  o  o  o\n",
      "o  o  o  o  o  o  o  o  o  o  o  o\n",
      "x  C  C  C  C  C  C  C  C  C  C  T\n",
      "\n"
     ]
    }
   ],
   "source": [
    "# Create the Cliffwalking environment\n",
    "env = gym.make('CliffWalking-v0')\n",
    "env.render()"
   ]
  },
  {
   "cell_type": "markdown",
   "id": "1c41ca07",
   "metadata": {},
   "source": [
    "## Step 3 - Test-drive the environment"
   ]
  },
  {
   "cell_type": "code",
   "execution_count": 21,
   "id": "a80a3620",
   "metadata": {},
   "outputs": [
    {
     "name": "stdout",
     "output_type": "stream",
     "text": [
      "Number of states: 48\n",
      "\n",
      "Number of actions an agent can take: 4\n",
      "\n",
      "Current state: 36\n",
      "\n",
      "Transitions from current state: {0: [(1.0, 24, -1, False)], 1: [(1.0, 36, -100, False)], 2: [(1.0, 36, -1, False)], 3: [(1.0, 36, -1, False)]}\n"
     ]
    }
   ],
   "source": [
    "action = [\"up\", \"right\", \"down\", \"left\"]\n",
    "\n",
    "\n",
    "# 4x12 grid = 48 states\n",
    "print(\"Number of states:\", env.nS)\n",
    "\n",
    "\n",
    "# left, up, down or right\n",
    "print(\"\\nNumber of actions an agent can take:\", env.nA)\n",
    "\n",
    "\n",
    "# Current state - \"x\" state\n",
    "print(\"\\nCurrent state:\", env.s)\n",
    "\n",
    "\n",
    "# Where can I go from here -> 4 action\n",
    "print(\"\\nTransitions from current state:\", env.P[env.s])"
   ]
  },
  {
   "cell_type": "markdown",
   "id": "cb2a245a",
   "metadata": {},
   "source": [
    "## Step 4 - Define your own render() function"
   ]
  },
  {
   "cell_type": "code",
   "execution_count": 22,
   "id": "34d35464",
   "metadata": {},
   "outputs": [],
   "source": [
    "def plot_custom_grid(full_grid, current_position):\n",
    "    colors = {'C': 'black', '': 'yellow', 'X': 'navy'}\n",
    "\n",
    "    # Map string values to numeric values\n",
    "    numeric_grid = np.zeros_like(full_grid, dtype=float)\n",
    "    for key, value in colors.items():\n",
    "        numeric_grid[full_grid == key] = 1 if key == 'C' else 0  # Set to 1 for 'C', 0 for '' and 'X'\n",
    "\n",
    "    fig, ax = plt.subplots(figsize=(10, 5))  # Adjust the size as needed\n",
    "\n",
    "    # Plotting each cell individually to control borders\n",
    "    for i in range(full_grid.shape[0]):\n",
    "        for j in range(full_grid.shape[1]):\n",
    "            value = full_grid[i, j]\n",
    "            color = colors.get(value, 'white')  # Default to white if the value is not recognized\n",
    "\n",
    "            rect = plt.Rectangle((j - 0.5, i - 0.5), 1, 1, linewidth=2, edgecolor='black', facecolor=color)\n",
    "            ax.add_patch(rect)\n",
    "\n",
    "            ax.text(j, i, value, ha='center', va='center', fontsize=12, color='black' if color == 'white' else 'white')\n",
    "\n",
    "    ax.set_xlim([-0.5, full_grid.shape[1] - 0.5])\n",
    "    ax.set_ylim([-0.5, full_grid.shape[0] - 0.5])\n",
    "\n",
    "    ax.set_xticks(np.arange(full_grid.shape[1]))\n",
    "    ax.set_yticks(np.arange(full_grid.shape[0]))\n",
    "\n",
    "    ax.tick_params(axis='both', which='both', length=0)  # Hide tick marks\n",
    "    ax.xaxis.set_ticks_position('bottom')  # Show ticks on the bottom axis\n",
    "    ax.yaxis.set_ticks_position('left')    # Show ticks on the left axis\n",
    "\n",
    "    plt.grid(True, color='black', linewidth=2)  # Add grid lines\n",
    "    plt.show()"
   ]
  },
  {
   "cell_type": "markdown",
   "id": "308efd15",
   "metadata": {},
   "source": [
    "## Step 5 - Display your environment in a nicer and cleaner way"
   ]
  },
  {
   "cell_type": "code",
   "execution_count": 23,
   "id": "ea77deab",
   "metadata": {},
   "outputs": [
    {
     "data": {
      "image/png": "[encoded data removed]",
      "text/plain": [
       "<Figure size 720x360 with 1 Axes>"
      ]
     },
     "metadata": {
      "needs_background": "light"
     },
     "output_type": "display_data"
    }
   ],
   "source": [
    "# Example how to use\n",
    "full_grid = np.full((4, 12), '', dtype='<U1')\n",
    "full_grid[3, 1:-1] = 'C'\n",
    "full_grid[3, 11] = 'T'\n",
    "current_position = (2, 6)  # Example current position (row, column)\n",
    "\n",
    "# Mark the current position with 'X'\n",
    "full_grid[current_position] = 'X'\n",
    "\n",
    "# Plot the custom grid with reversed rows\n",
    "plot_custom_grid(full_grid, current_position)"
   ]
  },
  {
   "cell_type": "markdown",
   "id": "10cc8c3d",
   "metadata": {},
   "source": [
    "## Step 6 - How would it look like to take consecutive steps?"
   ]
  },
  {
   "cell_type": "code",
   "execution_count": 24,
   "id": "d775a864",
   "metadata": {},
   "outputs": [
    {
     "name": "stdout",
     "output_type": "stream",
     "text": [
      "\n",
      "Current state: 36\n",
      "\n",
      "Action taken: right\n",
      "\n",
      "Transition probability: {'prob': 1.0}\n",
      "\n",
      "Next state: 36\n",
      "\n",
      "Reward received: -100\n",
      "\n",
      "Terminal state: False\n",
      "\n",
      "Position (3, 0)\n"
     ]
    },
    {
     "data": {
      "image/png": "[encoded data removed]",
      "text/plain": [
       "<Figure size 720x360 with 1 Axes>"
      ]
     },
     "metadata": {
      "needs_background": "light"
     },
     "output_type": "display_data"
    },
    {
     "name": "stdout",
     "output_type": "stream",
     "text": [
      "o  o  o  o  o  o  o  o  o  o  o  o\n",
      "o  o  o  o  o  o  o  o  o  o  o  o\n",
      "o  o  o  o  o  o  o  o  o  o  o  o\n",
      "x  C  C  C  C  C  C  C  C  C  C  T\n",
      "\n",
      "\n",
      "Current state: 36\n",
      "\n",
      "Action taken: up\n",
      "\n",
      "Position (2, 0)\n"
     ]
    },
    {
     "data": {
      "image/png": "[encoded data removed]",
      "text/plain": [
       "<Figure size 720x360 with 1 Axes>"
      ]
     },
     "metadata": {
      "needs_background": "light"
     },
     "output_type": "display_data"
    },
    {
     "name": "stdout",
     "output_type": "stream",
     "text": [
      "o  o  o  o  o  o  o  o  o  o  o  o\n",
      "o  o  o  o  o  o  o  o  o  o  o  o\n",
      "x  o  o  o  o  o  o  o  o  o  o  o\n",
      "o  C  C  C  C  C  C  C  C  C  C  T\n",
      "\n",
      "\n",
      "Current state: 24\n",
      "\n",
      "Action taken: down\n",
      "\n",
      "Position (3, 0)\n"
     ]
    },
    {
     "data": {
      "image/png": "[encoded data removed]",
      "text/plain": [
       "<Figure size 720x360 with 1 Axes>"
      ]
     },
     "metadata": {
      "needs_background": "light"
     },
     "output_type": "display_data"
    },
    {
     "name": "stdout",
     "output_type": "stream",
     "text": [
      "o  o  o  o  o  o  o  o  o  o  o  o\n",
      "o  o  o  o  o  o  o  o  o  o  o  o\n",
      "o  o  o  o  o  o  o  o  o  o  o  o\n",
      "x  C  C  C  C  C  C  C  C  C  C  T\n",
      "\n",
      "\n",
      "Current state: 36\n",
      "\n",
      "Action taken: left\n",
      "\n",
      "Position (3, 0)\n"
     ]
    },
    {
     "data": {
      "image/png": "[encoded data removed]",
      "text/plain": [
       "<Figure size 720x360 with 1 Axes>"
      ]
     },
     "metadata": {
      "needs_background": "light"
     },
     "output_type": "display_data"
    },
    {
     "name": "stdout",
     "output_type": "stream",
     "text": [
      "o  o  o  o  o  o  o  o  o  o  o  o\n",
      "o  o  o  o  o  o  o  o  o  o  o  o\n",
      "o  o  o  o  o  o  o  o  o  o  o  o\n",
      "x  C  C  C  C  C  C  C  C  C  C  T\n",
      "\n",
      "\n",
      "Current state: 36\n",
      "\n",
      "Action taken: down\n",
      "\n",
      "Position (3, 0)\n"
     ]
    },
    {
     "data": {
      "image/png": "[encoded data removed]",
      "text/plain": [
       "<Figure size 720x360 with 1 Axes>"
      ]
     },
     "metadata": {
      "needs_background": "light"
     },
     "output_type": "display_data"
    },
    {
     "name": "stdout",
     "output_type": "stream",
     "text": [
      "o  o  o  o  o  o  o  o  o  o  o  o\n",
      "o  o  o  o  o  o  o  o  o  o  o  o\n",
      "o  o  o  o  o  o  o  o  o  o  o  o\n",
      "x  C  C  C  C  C  C  C  C  C  C  T\n",
      "\n",
      "\n",
      "Current state: 36\n",
      "\n",
      "Action taken: right\n",
      "\n",
      "Position (3, 0)\n"
     ]
    },
    {
     "data": {
      "image/png": "[encoded data removed]",
      "text/plain": [
       "<Figure size 720x360 with 1 Axes>"
      ]
     },
     "metadata": {
      "needs_background": "light"
     },
     "output_type": "display_data"
    },
    {
     "name": "stdout",
     "output_type": "stream",
     "text": [
      "o  o  o  o  o  o  o  o  o  o  o  o\n",
      "o  o  o  o  o  o  o  o  o  o  o  o\n",
      "o  o  o  o  o  o  o  o  o  o  o  o\n",
      "x  C  C  C  C  C  C  C  C  C  C  T\n",
      "\n",
      "\n",
      "Current state: 36\n",
      "\n",
      "Action taken: up\n",
      "\n",
      "Position (2, 0)\n"
     ]
    },
    {
     "data": {
      "image/png": "[encoded data removed]",
      "text/plain": [
       "<Figure size 720x360 with 1 Axes>"
      ]
     },
     "metadata": {
      "needs_background": "light"
     },
     "output_type": "display_data"
    },
    {
     "name": "stdout",
     "output_type": "stream",
     "text": [
      "o  o  o  o  o  o  o  o  o  o  o  o\n",
      "o  o  o  o  o  o  o  o  o  o  o  o\n",
      "x  o  o  o  o  o  o  o  o  o  o  o\n",
      "o  C  C  C  C  C  C  C  C  C  C  T\n",
      "\n",
      "\n",
      "Current state: 24\n",
      "\n",
      "Action taken: up\n",
      "\n",
      "Position (1, 0)\n"
     ]
    },
    {
     "data": {
      "image/png": "[encoded data removed]",
      "text/plain": [
       "<Figure size 720x360 with 1 Axes>"
      ]
     },
     "metadata": {
      "needs_background": "light"
     },
     "output_type": "display_data"
    },
    {
     "name": "stdout",
     "output_type": "stream",
     "text": [
      "o  o  o  o  o  o  o  o  o  o  o  o\n",
      "x  o  o  o  o  o  o  o  o  o  o  o\n",
      "o  o  o  o  o  o  o  o  o  o  o  o\n",
      "o  C  C  C  C  C  C  C  C  C  C  T\n",
      "\n",
      "\n",
      "Current state: 12\n",
      "\n",
      "Action taken: right\n",
      "\n",
      "Position (1, 1)\n"
     ]
    },
    {
     "data": {
      "image/png": "[encoded data removed]",
      "text/plain": [
       "<Figure size 720x360 with 1 Axes>"
      ]
     },
     "metadata": {
      "needs_background": "light"
     },
     "output_type": "display_data"
    },
    {
     "name": "stdout",
     "output_type": "stream",
     "text": [
      "o  o  o  o  o  o  o  o  o  o  o  o\n",
      "o  x  o  o  o  o  o  o  o  o  o  o\n",
      "o  o  o  o  o  o  o  o  o  o  o  o\n",
      "o  C  C  C  C  C  C  C  C  C  C  T\n",
      "\n"
     ]
    }
   ],
   "source": [
    "# CHECK WHERE I AM AND TAKE ACTION 1\n",
    "print(\"\\nCurrent state:\", env.s)\n",
    "\n",
    "# Taking a step by selecting a random action[up=0, right=1, down=2, left=3] from current state\n",
    "rnd_action = random.randint(0, 3)\n",
    "print (\"\\nAction taken:\", action[rnd_action])\n",
    "\n",
    "# TAKE ACTION 1\n",
    "next_state, reward, is_terminal, t_prob = env.step(rnd_action)\n",
    "print (\"\\nTransition probability:\", t_prob)\n",
    "print (\"\\nNext state:\", next_state)\n",
    "print (\"\\nReward received:\", reward)\n",
    "print (\"\\nTerminal state:\", is_terminal)\n",
    "\n",
    "current_position = np.unravel_index(next_state, (4,12))\n",
    "print(\"\\nPosition\", current_position)\n",
    "\n",
    "full_grid = np.full((4, 12), '', dtype='<U1')\n",
    "full_grid[3, 1:-1] = 'C'\n",
    "full_grid[3, 11] = 'T'\n",
    "full_grid[current_position] = 'X'\n",
    "\n",
    "# Plot the custom grid with reversed rows\n",
    "plot_custom_grid(full_grid, current_position)\n",
    "env.render()\n",
    "\n",
    "\n",
    "\n",
    "\n",
    "# CHECK WHERE I AM AND TAKE ACTION 2\n",
    "print(\"\\nCurrent state:\", env.s)\n",
    "rnd_action = random.randint(0, 3)\n",
    "print (\"\\nAction taken:\", action[rnd_action])\n",
    "next_state, reward, is_terminal, t_prob = env.step(rnd_action)\n",
    "current_position = np.unravel_index(next_state, (4,12))\n",
    "print(\"\\nPosition\", current_position)\n",
    "\n",
    "full_grid = np.full((4, 12), '', dtype='<U1')\n",
    "full_grid[3, 1:-1] = 'C'\n",
    "full_grid[3, 11] = 'T'\n",
    "full_grid[current_position] = 'X'\n",
    "\n",
    "plot_custom_grid(full_grid, current_position)\n",
    "env.render()\n",
    "\n",
    "\n",
    "\n",
    "\n",
    "# CHECK WHERE I AM AND TAKE ACTION 3\n",
    "print(\"\\nCurrent state:\", env.s)\n",
    "rnd_action = random.randint(0, 3)\n",
    "print (\"\\nAction taken:\", action[rnd_action])\n",
    "next_state, reward, is_terminal, t_prob = env.step(rnd_action)\n",
    "current_position = np.unravel_index(next_state, (4,12))\n",
    "print(\"\\nPosition\", current_position)\n",
    "\n",
    "full_grid = np.full((4, 12), '', dtype='<U1')\n",
    "full_grid[3, 1:-1] = 'C'\n",
    "full_grid[3, 11] = 'T'\n",
    "full_grid[current_position] = 'X'\n",
    "\n",
    "plot_custom_grid(full_grid, current_position)\n",
    "env.render()\n",
    "\n",
    "\n",
    "\n",
    "\n",
    "# CHECK WHERE I AM AND TAKE ACTION 4\n",
    "print(\"\\nCurrent state:\", env.s)\n",
    "rnd_action = random.randint(0, 3)\n",
    "print (\"\\nAction taken:\", action[rnd_action])\n",
    "next_state, reward, is_terminal, t_prob = env.step(rnd_action)\n",
    "current_position = np.unravel_index(next_state, (4,12))\n",
    "print(\"\\nPosition\", current_position)\n",
    "\n",
    "full_grid = np.full((4, 12), '', dtype='<U1')\n",
    "full_grid[3, 1:-1] = 'C'\n",
    "full_grid[3, 11] = 'T'\n",
    "full_grid[current_position] = 'X'\n",
    "\n",
    "plot_custom_grid(full_grid, current_position)\n",
    "env.render()\n",
    "\n",
    "\n",
    "\n",
    "\n",
    "# CHECK WHERE I AM AND TAKE ACTION 5\n",
    "print(\"\\nCurrent state:\", env.s)\n",
    "rnd_action = random.randint(0, 3)\n",
    "print (\"\\nAction taken:\", action[rnd_action])\n",
    "next_state, reward, is_terminal, t_prob = env.step(rnd_action)\n",
    "current_position = np.unravel_index(next_state, (4,12))\n",
    "print(\"\\nPosition\", current_position)\n",
    "\n",
    "full_grid = np.full((4, 12), '', dtype='<U1')\n",
    "full_grid[3, 1:-1] = 'C'\n",
    "full_grid[3, 11] = 'T'\n",
    "full_grid[current_position] = 'X'\n",
    "\n",
    "plot_custom_grid(full_grid, current_position)\n",
    "env.render()\n",
    "\n",
    "\n",
    "\n",
    "\n",
    "# CHECK WHERE I AM AND TAKE ACTION 6\n",
    "print(\"\\nCurrent state:\", env.s)\n",
    "rnd_action = random.randint(0, 3)\n",
    "print (\"\\nAction taken:\", action[rnd_action])\n",
    "next_state, reward, is_terminal, t_prob = env.step(rnd_action)\n",
    "current_position = np.unravel_index(next_state, (4,12))\n",
    "print(\"\\nPosition\", current_position)\n",
    "\n",
    "full_grid = np.full((4, 12), '', dtype='<U1')\n",
    "full_grid[3, 1:-1] = 'C'\n",
    "full_grid[3, 11] = 'T'\n",
    "full_grid[current_position] = 'X'\n",
    "\n",
    "plot_custom_grid(full_grid, current_position)\n",
    "env.render()\n",
    "\n",
    "\n",
    "\n",
    "\n",
    "# CHECK WHERE I AM AND TAKE ACTION 7\n",
    "print(\"\\nCurrent state:\", env.s)\n",
    "rnd_action = random.randint(0, 3)\n",
    "print (\"\\nAction taken:\", action[rnd_action])\n",
    "next_state, reward, is_terminal, t_prob = env.step(rnd_action)\n",
    "current_position = np.unravel_index(next_state, (4,12))\n",
    "print(\"\\nPosition\", current_position)\n",
    "\n",
    "full_grid = np.full((4, 12), '', dtype='<U1')\n",
    "full_grid[3, 1:-1] = 'C'\n",
    "full_grid[3, 11] = 'T'\n",
    "full_grid[current_position] = 'X'\n",
    "\n",
    "plot_custom_grid(full_grid, current_position)\n",
    "env.render()\n",
    "\n",
    "\n",
    "\n",
    "\n",
    "# CHECK WHERE I AM AND TAKE ACTION 8\n",
    "print(\"\\nCurrent state:\", env.s)\n",
    "rnd_action = random.randint(0, 3)\n",
    "print (\"\\nAction taken:\", action[rnd_action])\n",
    "next_state, reward, is_terminal, t_prob = env.step(rnd_action)\n",
    "current_position = np.unravel_index(next_state, (4,12))\n",
    "print(\"\\nPosition\", current_position)\n",
    "\n",
    "full_grid = np.full((4, 12), '', dtype='<U1')\n",
    "full_grid[3, 1:-1] = 'C'\n",
    "full_grid[3, 11] = 'T'\n",
    "full_grid[current_position] = 'X'\n",
    "\n",
    "plot_custom_grid(full_grid, current_position)\n",
    "env.render()\n",
    "\n",
    "\n",
    "\n",
    "\n",
    "# CHECK WHERE I AM AND TAKE ACTION 9\n",
    "print(\"\\nCurrent state:\", env.s)\n",
    "rnd_action = random.randint(0, 3)\n",
    "print (\"\\nAction taken:\", action[rnd_action])\n",
    "next_state, reward, is_terminal, t_prob = env.step(rnd_action)\n",
    "current_position = np.unravel_index(next_state, (4,12))\n",
    "print(\"\\nPosition\", current_position)\n",
    "\n",
    "full_grid = np.full((4, 12), '', dtype='<U1')\n",
    "full_grid[3, 1:-1] = 'C'\n",
    "full_grid[3, 11] = 'T'\n",
    "full_grid[current_position] = 'X'\n",
    "\n",
    "plot_custom_grid(full_grid, current_position)\n",
    "env.render()"
   ]
  },
  {
   "cell_type": "markdown",
   "id": "e77896ba",
   "metadata": {},
   "source": [
    "## Step 7 - Whenever you repeat your code, you should maybe use a loop instead (!)"
   ]
  },
  {
   "cell_type": "code",
   "execution_count": 25,
   "id": "2964377b",
   "metadata": {},
   "outputs": [
    {
     "data": {
      "image/png": "[encoded data removed]",
      "text/plain": [
       "<Figure size 720x360 with 1 Axes>"
      ]
     },
     "metadata": {
      "needs_background": "light"
     },
     "output_type": "display_data"
    },
    {
     "name": "stdout",
     "output_type": "stream",
     "text": [
      "current state (labeled as next) -  47 Is Terminal State? True\n"
     ]
    }
   ],
   "source": [
    "import time\n",
    "from IPython.display import clear_output\n",
    "\n",
    "env.reset()\n",
    "actions = [0, 1, 0, 1, 0, 1, 2, 2, 1, 1, 1, 1, 1, 1, 1, 1, 2]\n",
    "for i in range(len(actions)):\n",
    "    print(\"Step Nr.:\", i+1, \"| Current state:\", env.s)\n",
    "    action = actions[i]\n",
    "    next_state, reward, is_terminal, t_prob = env.step(action)\n",
    "    current_position = np.unravel_index(next_state, env.shape)\n",
    "    print(\"\\nAction taken:\", action, \"Current Position\", current_position)\n",
    "    \n",
    "    full_grid = np.full(env.shape, '', dtype='<U1')\n",
    "    full_grid[3, 1:-1] = 'C'\n",
    "    full_grid[3, 11] = 'T'\n",
    "    full_grid[current_position] = 'X'\n",
    "\n",
    "    plot_custom_grid(full_grid, current_position)\n",
    "    plt.pause(2)  # Pause for 2 seconds\n",
    "    clear_output(wait=True)  # Clear the previous output\n",
    "\n",
    "# Plot final grid and display return values    \n",
    "plot_custom_grid(full_grid, current_position)    \n",
    "print(\"current state (labeled as next) - \", next_state, \"Is Terminal State?\", is_terminal)"
   ]
  },
  {
   "cell_type": "markdown",
   "id": "7337ee7f",
   "metadata": {},
   "source": [
    "## Isn't that much more clear ?!"
   ]
  }
 ],
 "metadata": {
  "kernelspec": {
   "display_name": "Python 3 (ipykernel)",
   "language": "python",
   "name": "python3"
  },
  "language_info": {
   "codemirror_mode": {
    "name": "ipython",
    "version": 3
   },
   "file_extension": ".py",
   "mimetype": "text/x-python",
   "name": "python",
   "nbconvert_exporter": "python",
   "pygments_lexer": "ipython3",
   "version": "3.9.18"
  }
 },
 "nbformat": 4,
 "nbformat_minor": 5
}
