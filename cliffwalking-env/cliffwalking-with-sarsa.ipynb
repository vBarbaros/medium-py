{
 "cells": [
  {
   "cell_type": "markdown",
   "id": "46a0b75a",
   "metadata": {},
   "source": [
    "\n",
    "\n",
    "# 1. Import all needed libraries"
   ]
  },
  {
   "cell_type": "code",
   "execution_count": 7,
   "id": "bc4628ec",
   "metadata": {},
   "outputs": [],
   "source": [
    "import numpy as np\n",
    "import matplotlib.pyplot as plt\n",
    "import matplotlib\n",
    "\n",
    "import pandas as pd\n",
    "from collections import namedtuple\n",
    "\n",
    "import gym\n",
    "import random\n",
    "import itertools\n",
    "import sys\n",
    "from collections import defaultdict\n",
    "from gym.envs.toy_text.cliffwalking import CliffWalkingEnv\n",
    "\n",
    "import time\n",
    "from IPython.display import clear_output\n",
    "\n",
    "matplotlib.style.use('ggplot')\n",
    "%matplotlib inline"
   ]
  },
  {
   "cell_type": "markdown",
   "id": "c1269255",
   "metadata": {},
   "source": [
    "# 2. Create an instance of your CliffWalking environment"
   ]
  },
  {
   "cell_type": "code",
   "execution_count": 8,
   "id": "f102706e",
   "metadata": {},
   "outputs": [
    {
     "name": "stdout",
     "output_type": "stream",
     "text": [
      "o  o  o  o  o  o  o  o  o  o  o  o\n",
      "o  o  o  o  o  o  o  o  o  o  o  o\n",
      "o  o  o  o  o  o  o  o  o  o  o  o\n",
      "x  C  C  C  C  C  C  C  C  C  C  T\n",
      "\n"
     ]
    }
   ],
   "source": [
    "# Create the Cliffwalking environment\n",
    "env = gym.make('CliffWalking-v0')\n",
    "env.render()"
   ]
  },
  {
   "cell_type": "markdown",
   "id": "87327bb9",
   "metadata": {},
   "source": [
    "# 3. Define a Plotting Function to avoid the ugly `render()` output"
   ]
  },
  {
   "cell_type": "code",
   "execution_count": 9,
   "id": "da3ff6bb",
   "metadata": {},
   "outputs": [],
   "source": [
    "def plot_custom_grid(full_grid, current_position):\n",
    "    colors = {'C': 'black', '': 'yellow', 'X': 'navy'}\n",
    "\n",
    "    # Map string values to numeric values\n",
    "    numeric_grid = np.zeros_like(full_grid, dtype=float)\n",
    "    for key, value in colors.items():\n",
    "        numeric_grid[full_grid == key] = 1 if key == 'C' else 0  # Set to 1 for 'C', 0 for '' and 'X'\n",
    "\n",
    "    fig, ax = plt.subplots(figsize=(10, 5))  # Adjust the size as needed\n",
    "\n",
    "    # Plotting each cell individually to control borders\n",
    "    for i in range(full_grid.shape[0]):\n",
    "        for j in range(full_grid.shape[1]):\n",
    "            value = full_grid[i, j]\n",
    "            color = colors.get(value, 'white')  # Default to white if the value is not recognized\n",
    "\n",
    "            rect = plt.Rectangle((j - 0.5, i - 0.5), 1, 1, linewidth=2, edgecolor='black', facecolor=color)\n",
    "            ax.add_patch(rect)\n",
    "\n",
    "            ax.text(j, i, value, ha='center', va='center', fontsize=12, color='black' if color == 'white' else 'white')\n",
    "\n",
    "    ax.set_xlim([-0.5, full_grid.shape[1] - 0.5])\n",
    "    ax.set_ylim([-0.5, full_grid.shape[0] - 0.5])\n",
    "\n",
    "    ax.set_xticks(np.arange(full_grid.shape[1]))\n",
    "    ax.set_yticks(np.arange(full_grid.shape[0]))\n",
    "\n",
    "    ax.tick_params(axis='both', which='both', length=0)  # Hide tick marks\n",
    "    ax.xaxis.set_ticks_position('bottom')  # Show ticks on the bottom axis\n",
    "    ax.yaxis.set_ticks_position('left')    # Show ticks on the left axis\n",
    "\n",
    "    plt.grid(True, color='black', linewidth=2)  # Add grid lines\n",
    "    plt.show()"
   ]
  },
  {
   "cell_type": "markdown",
   "id": "e997f156",
   "metadata": {},
   "source": [
    "# 4. Give the new plotting function a try"
   ]
  },
  {
   "cell_type": "code",
   "execution_count": 10,
   "id": "f07f4092",
   "metadata": {},
   "outputs": [
    {
     "data": {
      "image/png": "[encoded data removed]",
      "text/plain": [
       "<Figure size 720x360 with 1 Axes>"
      ]
     },
     "metadata": {
      "needs_background": "light"
     },
     "output_type": "display_data"
    },
    {
     "name": "stdout",
     "output_type": "stream",
     "text": [
      "current state (labeled as next) -  47 Is Terminal State? True\n"
     ]
    }
   ],
   "source": [
    "env.reset()\n",
    "actions = [0, 1, 0, 1, 0, 1, 2, 2, 1, 1, 1, 1, 1, 1, 1, 1, 2]\n",
    "for i in range(len(actions)):\n",
    "    print(\"Step Nr.:\", i+1, \"| Current state:\", env.s)\n",
    "    action = actions[i]\n",
    "    next_state, reward, is_terminal, t_prob = env.step(action)\n",
    "    current_position = np.unravel_index(next_state, env.shape)\n",
    "    print(\"\\nAction taken:\", action, \"Current Position\", current_position)\n",
    "    \n",
    "    full_grid = np.full(env.shape, '', dtype='<U1')\n",
    "    full_grid[3, 1:-1] = 'C'\n",
    "    full_grid[3, 11] = 'T'\n",
    "    full_grid[current_position] = 'X'\n",
    "\n",
    "    plot_custom_grid(full_grid, current_position)\n",
    "    plt.pause(2)  # Pause for 2 seconds\n",
    "    clear_output(wait=True)  # Clear the previous output\n",
    "\n",
    "# Plot final grid and display return values    \n",
    "plot_custom_grid(full_grid, current_position)    \n",
    "print(\"current state (labeled as next) - \", next_state, \"Is Terminal State?\", is_terminal)"
   ]
  },
  {
   "cell_type": "markdown",
   "id": "834648b7",
   "metadata": {},
   "source": [
    "# 5. Define the epsilon-greedy policy and the SARSA algorithm"
   ]
  },
  {
   "cell_type": "code",
   "execution_count": 11,
   "id": "a194211f",
   "metadata": {},
   "outputs": [],
   "source": [
    "from collections import namedtuple, defaultdict\n",
    "import numpy as np\n",
    "import itertools\n",
    "import sys\n",
    "\n",
    "EpisodeStats = namedtuple(\"Stats\", [\"episode_lengths\", \"episode_rewards\"])\n",
    "\n",
    "def make_epsilon_greedy_policy(Q, epsilon, nA):\n",
    "    \"\"\"\n",
    "    Creates an epsilon-greedy policy based on a given Q-function and epsilon.\n",
    "    \n",
    "    Args:\n",
    "        Q: A dictionary that maps states to action values.\n",
    "            Each value is a numpy array of length nA (number of actions).\n",
    "        epsilon: The probability to select a random action, float between 0 and 1.\n",
    "        nA: Number of actions in the environment.\n",
    "    \n",
    "    Returns:\n",
    "        A function that takes an observation (state) as an argument and returns\n",
    "        the probabilities for each action in the form of a numpy array of length nA.\n",
    "    \"\"\"\n",
    "    def policy_fn(state):\n",
    "        action_probabilities = np.ones(nA, dtype=float) * (epsilon / nA)\n",
    "        best_action = np.argmax(Q[state])\n",
    "        action_probabilities[best_action] += (1.0 - epsilon)\n",
    "        return action_probabilities\n",
    "    \n",
    "    return policy_fn\n",
    "\n",
    "def sarsa(env, num_episodes, discount_factor=1.0, alpha=0.5, epsilon=0.1):\n",
    "    \"\"\"\n",
    "    SARSA (State-Action-Reward-State-Action) algorithm: On-policy TD control.\n",
    "    Finds the optimal epsilon-greedy policy.\n",
    "    \n",
    "    Args:\n",
    "        env: OpenAI environment.\n",
    "        num_episodes: Number of episodes to run for.\n",
    "        discount_factor: Gamma (γ) discount factor.\n",
    "        alpha: Step size (α), TD learning rate.\n",
    "        epsilon: Probability to sample a random action, float between 0 and 1.\n",
    "    \n",
    "    Returns:\n",
    "        A tuple (Q, stats) where Q is the optimal action-value function, \n",
    "        a dictionary mapping state -> action values, and stats is an EpisodeStats \n",
    "        object with two numpy arrays for episode_lengths and episode_rewards.\n",
    "    \"\"\"\n",
    "    \n",
    "    # Initialize the action-value function Q with zeros for all state-action pairs.\n",
    "    Q = defaultdict(lambda: np.zeros(env.action_space.n))\n",
    "    \n",
    "    # Keeps track of useful statistics\n",
    "    stats = EpisodeStats(\n",
    "        episode_lengths=np.zeros(num_episodes),\n",
    "        episode_rewards=np.zeros(num_episodes))\n",
    "\n",
    "    # The policy we're following\n",
    "    policy = make_epsilon_greedy_policy(Q, epsilon, env.action_space.n)\n",
    "    \n",
    "    for i_episode in range(num_episodes):\n",
    "        # Initialize the state\n",
    "        state = env.reset()\n",
    "        \n",
    "        # Choose action A from state S using policy derived from Q (epsilon-greedy)\n",
    "        action_probabilities = policy(state)\n",
    "        action = np.random.choice(np.arange(len(action_probabilities)), p=action_probabilities)\n",
    "        \n",
    "        # Loop for each step of the episode\n",
    "        for t in itertools.count():\n",
    "            # Take action A, observe R, S'\n",
    "            next_state, reward, is_terminal, _ = env.step(action)\n",
    "            \n",
    "            # Choose A' from S' using policy derived from Q (epsilon-greedy)\n",
    "            next_action_probabilities = policy(next_state)\n",
    "            next_action = np.random.choice(np.arange(len(next_action_probabilities)), p=next_action_probabilities)\n",
    "            \n",
    "            # Update Q(S,A) := Q(S,A) + α[R + γQ(S',A') - Q(S,A)]\n",
    "            td_target = reward + discount_factor * Q[next_state][next_action]\n",
    "            td_error = td_target - Q[state][action]\n",
    "            Q[state][action] += alpha * td_error\n",
    "\n",
    "            # Update statistics\n",
    "            stats.episode_rewards[i_episode] += reward\n",
    "            stats.episode_lengths[i_episode] = t\n",
    "\n",
    "            if is_terminal:\n",
    "                break\n",
    "            \n",
    "            # S ← S'; A ← A'\n",
    "            state = next_state\n",
    "            action = next_action\n",
    "\n",
    "    return Q, stats"
   ]
  },
  {
   "cell_type": "markdown",
   "id": "b9bc6435",
   "metadata": {},
   "source": [
    "# 6. Run the SARSA Algorithm and learn the optimal policy"
   ]
  },
  {
   "cell_type": "code",
   "execution_count": 12,
   "id": "58009c64",
   "metadata": {},
   "outputs": [
    {
     "name": "stdout",
     "output_type": "stream",
     "text": [
      "CPU times: user 5.56 s, sys: 39.5 ms, total: 5.6 s\n",
      "Wall time: 5.5 s\n"
     ]
    }
   ],
   "source": [
    "%%time\n",
    "Q, stats = sarsa(env, 5000)"
   ]
  },
  {
   "cell_type": "markdown",
   "id": "39145e6a",
   "metadata": {},
   "source": [
    "# 7. Visualize the results\n",
    "## Plot 1 - Episode length over time\n",
    " - as time passes and iterations advance, we want to see shorter and shorter episodes, which means we get to the terminal state quicker\n",
    "\n",
    "## Plot 2 - Rewards per episode over time\n",
    " - as iterations go, rewards per episode should be close and closer to zero, meaning lesser and lesser negative, which again shows quicker reaching of the terminal state\n",
    "\n",
    "## Plot 3 - Episodes per Time steps\n",
    " - cummulative sum of episode length increasing almost linearly with the number of timesteps, suggests a constant and stable learning"
   ]
  },
  {
   "cell_type": "code",
   "execution_count": 13,
   "id": "dee23a47",
   "metadata": {},
   "outputs": [
    {
     "data": {
      "image/png": "[encoded data removed]",
      "text/plain": [
       "<Figure size 720x360 with 1 Axes>"
      ]
     },
     "metadata": {
      "needs_background": "light"
     },
     "output_type": "display_data"
    },
    {
     "data": {
      "image/png": "[encoded data removed]",
      "text/plain": [
       "<Figure size 720x360 with 1 Axes>"
      ]
     },
     "metadata": {
      "needs_background": "light"
     },
     "output_type": "display_data"
    },
    {
     "data": {
      "image/png": "[encoded data removed]",
      "text/plain": [
       "<Figure size 720x360 with 1 Axes>"
      ]
     },
     "metadata": {
      "needs_background": "light"
     },
     "output_type": "display_data"
    }
   ],
   "source": [
    "def plot_episode_stats(stats, smoothing_window=10, noshow=False):\n",
    "    # Plot the episode length over time\n",
    "    fig1 = plt.figure(figsize=(10,5))\n",
    "    plt.plot(stats.episode_lengths)\n",
    "    plt.xlabel(\"Episode\")\n",
    "    plt.ylabel(\"Episode Length\")\n",
    "    plt.title(\"Episode Length over Time\")\n",
    "    plt.show(fig1)\n",
    "\n",
    "    # Plot the episode reward over time\n",
    "    fig2 = plt.figure(figsize=(10,5))\n",
    "    rewards_smoothed = pd.Series(stats.episode_rewards).rolling(smoothing_window, min_periods=smoothing_window).mean()\n",
    "    plt.plot(rewards_smoothed)\n",
    "    plt.xlabel(\"Episode\")\n",
    "    plt.ylabel(\"Episode Reward (Smoothed)\")\n",
    "    plt.title(\"Episode Reward over Time (Smoothed over window size {})\".format(smoothing_window))\n",
    "    plt.show(fig2)\n",
    "\n",
    "    # Plot time steps and episode number\n",
    "    fig3 = plt.figure(figsize=(10,5))\n",
    "    plt.plot(np.cumsum(stats.episode_lengths), np.arange(len(stats.episode_lengths)))\n",
    "    plt.xlabel(\"Time Steps\")\n",
    "    plt.ylabel(\"Episode\")\n",
    "    plt.title(\"Episode per time step\")\n",
    "    plt.show(fig3)\n",
    "\n",
    "\n",
    "plot_episode_stats(stats)"
   ]
  },
  {
   "cell_type": "markdown",
   "id": "9d7e1799",
   "metadata": {},
   "source": [
    "# 8. Obtain a greedy policy and a Value function from our Q-table (optimal value-function we learned previously)"
   ]
  },
  {
   "cell_type": "code",
   "execution_count": 14,
   "id": "e733cc28",
   "metadata": {},
   "outputs": [],
   "source": [
    "# get greedy policy from Q\n",
    "policy= np.array([np.argmax(Q[key]) if key in Q else -1 for key in np.arange(48)])\n",
    "\n",
    "\n",
    "# get value function from Q using greedy policy\n",
    "v = ([np.max(Q[key]) if key in Q else 0 for key in np.arange(48)])"
   ]
  },
  {
   "cell_type": "markdown",
   "id": "f3769c8d",
   "metadata": {},
   "source": [
    "# 9. Gain some insights on the learned Policy and Value Function"
   ]
  },
  {
   "cell_type": "code",
   "execution_count": 15,
   "id": "4aca6a9c",
   "metadata": {},
   "outputs": [
    {
     "name": "stdout",
     "output_type": "stream",
     "text": [
      "Reshaped Grid Policy:\n",
      "[[ 1  1  1  1  1  1  1  1  1  1  1  2]\n",
      " [ 0  1  0  1  0  1  0  3  0  0  1  2]\n",
      " [ 0  3  0  0  0  3  0  0  0  3  1  2]\n",
      " [ 0 -1 -1 -1 -1 -1 -1 -1 -1 -1 -1  0]]\n",
      "\n",
      "Optimal Policy:\n",
      "[['right' 'right' 'right' 'right' 'right' 'right' 'right' 'right' 'right'\n",
      "  'right' 'right' 'down']\n",
      " ['up' 'right' 'up' 'right' 'up' 'right' 'up' 'left' 'up' 'up' 'right'\n",
      "  'down']\n",
      " ['up' 'left' 'up' 'up' 'up' 'left' 'up' 'up' 'up' 'left' 'right' 'down']\n",
      " ['up' 'left' 'left' 'left' 'left' 'left' 'left' 'left' 'left' 'left'\n",
      "  'left' 'up']]\n",
      "\n",
      "Optimal Value Function:\n",
      "[[-15.66955113 -14.63219557 -12.94560599 -12.19847486 -11.51414781\n",
      "  -10.46892989  -8.71403111  -7.14552138  -6.0515342   -5.22739982\n",
      "   -5.32329542  -4.13969009]\n",
      " [-15.92864002 -16.98810881 -14.88736424 -15.00109394 -12.79579684\n",
      "  -12.15540206 -11.24087785 -12.11669153  -7.65714368  -8.8839152\n",
      "   -3.34379664  -3.03268806]\n",
      " [-17.10778504 -21.7176057  -16.66883163 -16.49405792 -15.89788471\n",
      "  -18.48920448 -13.32907054 -14.54423151 -10.07051695 -11.08594849\n",
      "   -2.5032888   -1.        ]\n",
      " [-20.10082237   0.           0.           0.           0.\n",
      "    0.           0.           0.           0.           0.\n",
      "    0.           0.        ]]\n",
      "\n"
     ]
    }
   ],
   "source": [
    "action = [\"up\", \"right\", \"down\", \"left\"]\n",
    "\n",
    "print(\"Reshaped Grid Policy:\")\n",
    "actions = np.stack([action for _ in range(len(policy))], axis=0)\n",
    "print (np.reshape(policy, (4, 12)))\n",
    "print (\"\")\n",
    "\n",
    "\n",
    "print (\"Optimal Policy:\")\n",
    "print(np.take(actions, np.reshape(policy, (4, 12))))\n",
    "print(\"\")\n",
    "\n",
    "print(\"Optimal Value Function:\")\n",
    "print(np.reshape(v, (4, 12)))\n",
    "print(\"\")"
   ]
  },
  {
   "cell_type": "markdown",
   "id": "d8ba2471",
   "metadata": {},
   "source": [
    "# 10. Plot the greedy policy using arrows\n",
    "- Based on the arrow, we can see what direction our agent will choose from a given state, when being guided by the freshly learned policy."
   ]
  },
  {
   "cell_type": "code",
   "execution_count": 16,
   "id": "902c5d52",
   "metadata": {},
   "outputs": [
    {
     "name": "stdout",
     "output_type": "stream",
     "text": [
      "Reshaped Grid Policy:\n"
     ]
    },
    {
     "data": {
      "image/png": "[encoded data removed]",
      "text/plain": [
       "<Figure size 432x288 with 1 Axes>"
      ]
     },
     "metadata": {
      "needs_background": "light"
     },
     "output_type": "display_data"
    }
   ],
   "source": [
    "import matplotlib.pyplot as plt\n",
    "import numpy as np\n",
    "action = [\"up\", \"right\", \"down\", \"left\"]\n",
    "\n",
    "# get greedy policy from Q\n",
    "policy = np.array([np.argmax(Q[key]) if key in Q else -1 for key in np.arange(48)])\n",
    "print(\"Reshaped Grid Policy:\")\n",
    "actions = np.stack([action for _ in range(len(policy))], axis=0)\n",
    "policy = np.reshape(policy, (4, 12))\n",
    "\n",
    "\n",
    "# Map policy values to directions\n",
    "# Note: Assuming 0=UP, 1=RIGHT, 2=DOWN, 3=LEFT, -1=no action\n",
    "directions = {\n",
    "    0: (0, -1),\n",
    "    1: (1, 0),\n",
    "    2: (0, 1),\n",
    "    3: (-1, 0),\n",
    "    -1: (0, 0)  # No movement for -1\n",
    "}\n",
    "\n",
    "fig, ax = plt.subplots()\n",
    "\n",
    "# Size of the grid\n",
    "nrows, ncols = policy.shape\n",
    "\n",
    "# Create a grid of points\n",
    "ax.set_xlim(0, ncols)\n",
    "ax.set_ylim(0, nrows)\n",
    "plt.gca().invert_yaxis()  # Invert y axis to have the first row at the top\n",
    "\n",
    "# Plot arrows for each policy direction\n",
    "for y in range(nrows):\n",
    "    for x in range(ncols):\n",
    "        dx, dy = directions[policy[y, x]]\n",
    "        if policy[y, x] != -1:  # If action is defined\n",
    "            ax.arrow(x + 0.5, y + 0.5, dx * 0.3, dy * 0.3, head_width=0.2, head_length=0.2, fc='k', ec='k')\n",
    "\n",
    "# Additional settings for clarity\n",
    "ax.set_xticks(np.arange(0, ncols, 1))\n",
    "ax.set_yticks(np.arange(0, nrows, 1))\n",
    "ax.set_xticklabels([])\n",
    "ax.set_yticklabels([])\n",
    "ax.grid(which='both')\n",
    "\n",
    "plt.show()\n"
   ]
  }
 ],
 "metadata": {
  "kernelspec": {
   "display_name": "Python 3 (ipykernel)",
   "language": "python",
   "name": "python3"
  },
  "language_info": {
   "codemirror_mode": {
    "name": "ipython",
    "version": 3
   },
   "file_extension": ".py",
   "mimetype": "text/x-python",
   "name": "python",
   "nbconvert_exporter": "python",
   "pygments_lexer": "ipython3",
   "version": "3.9.18"
  }
 },
 "nbformat": 4,
 "nbformat_minor": 5
}
